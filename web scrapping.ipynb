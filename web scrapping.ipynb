{
 "cells": [
  {
   "cell_type": "code",
   "execution_count": 1,
   "id": "c76d1546-020f-4204-ae87-0ada4a3dfc8b",
   "metadata": {
    "scrolled": true
   },
   "outputs": [],
   "source": [
    "# from requests import get\n",
    "\n",
    "# url = get(\"sample.html\")\n",
    "\n",
    "# request = url.text"
   ]
  },
  {
   "cell_type": "code",
   "execution_count": 2,
   "id": "08a6a95c-5bdc-41e1-951e-711ede06944f",
   "metadata": {},
   "outputs": [],
   "source": [
    "file = open(r'./sample.html', 'r')"
   ]
  },
  {
   "cell_type": "code",
   "execution_count": 3,
   "id": "d177bf6c-a197-44c7-af7f-ef8f9eb93cf4",
   "metadata": {},
   "outputs": [
    {
     "data": {
      "text/plain": [
       "<_io.TextIOWrapper name='./sample.html' mode='r' encoding='UTF-8'>"
      ]
     },
     "execution_count": 3,
     "metadata": {},
     "output_type": "execute_result"
    }
   ],
   "source": [
    "file"
   ]
  },
  {
   "cell_type": "code",
   "execution_count": 4,
   "id": "82b77175-e09a-476d-ae4a-b1f224f49654",
   "metadata": {},
   "outputs": [],
   "source": [
    "from bs4 import BeautifulSoup as soup\n",
    "\n",
    "soup_data = soup(file, 'html.parser' )"
   ]
  },
  {
   "cell_type": "code",
   "execution_count": 5,
   "id": "2a8fe567-c81f-4469-9ad6-cddc26553c94",
   "metadata": {},
   "outputs": [],
   "source": [
    "# soup_data"
   ]
  },
  {
   "cell_type": "code",
   "execution_count": 15,
   "id": "30397184-c0f6-4b59-b075-8bcf8ccc6d00",
   "metadata": {},
   "outputs": [],
   "source": [
    "div = soup_data.find('li', {\"class\":\"banana\"})"
   ]
  },
  {
   "cell_type": "code",
   "execution_count": 16,
   "id": "737dd375-9501-49a2-bd6c-4e90ee49790a",
   "metadata": {},
   "outputs": [
    {
     "data": {
      "text/plain": [
       "<li class=\"banana\">\n",
       "<a href=\"https://th.bing.com/th/id/OIP.O8lKDwWSZP_Cfm8eeyw3wAHaFu?w=224&amp;h=180&amp;c=7&amp;r=0&amp;o=5&amp;pid=1.7\">\n",
       "                Banana \n",
       "            </a>\n",
       "</li>"
      ]
     },
     "execution_count": 16,
     "metadata": {},
     "output_type": "execute_result"
    }
   ],
   "source": [
    "div"
   ]
  },
  {
   "cell_type": "code",
   "execution_count": 18,
   "id": "8afe968b-99cf-423c-9829-89644b4a462d",
   "metadata": {},
   "outputs": [],
   "source": [
    "anchor = divs.find('a')"
   ]
  },
  {
   "cell_type": "code",
   "execution_count": 22,
   "id": "059b7c31-8cee-4701-baaa-325b6c193273",
   "metadata": {},
   "outputs": [
    {
     "data": {
      "text/plain": [
       "'https://th.bing.com/th/id/OIP.O8lKDwWSZP_Cfm8eeyw3wAHaFu?w=224&h=180&c=7&r=0&o=5&pid=1.7'"
      ]
     },
     "execution_count": 22,
     "metadata": {},
     "output_type": "execute_result"
    }
   ],
   "source": [
    "anchor[\"href\"]"
   ]
  },
  {
   "cell_type": "code",
   "execution_count": null,
   "id": "09f5cccd-231a-4f89-a9d8-052132eeb25f",
   "metadata": {},
   "outputs": [],
   "source": []
  },
  {
   "cell_type": "code",
   "execution_count": null,
   "id": "a5160b72-923c-41c0-a009-f22277210ac6",
   "metadata": {},
   "outputs": [],
   "source": []
  },
  {
   "cell_type": "code",
   "execution_count": null,
   "id": "85d37854-ed2d-48cf-bdc0-8d7464f56967",
   "metadata": {},
   "outputs": [],
   "source": []
  },
  {
   "cell_type": "code",
   "execution_count": 8,
   "id": "e0ef62b0-8c5a-42e4-a8f0-6d0524dd88ac",
   "metadata": {},
   "outputs": [],
   "source": [
    "author_name = []"
   ]
  },
  {
   "cell_type": "code",
   "execution_count": 9,
   "id": "3ca50c20-5842-47d3-b4fc-4c97806efb42",
   "metadata": {},
   "outputs": [],
   "source": [
    "ordered_cars = divs.find(\"ol\")"
   ]
  },
  {
   "cell_type": "code",
   "execution_count": 10,
   "id": "e9e4f716-00d7-4a2c-9956-448f6e9b7237",
   "metadata": {},
   "outputs": [],
   "source": [
    "ordered_cars_items = ordered_cars.find_all(\"li\")"
   ]
  },
  {
   "cell_type": "code",
   "execution_count": 11,
   "id": "2f338720-7837-45a2-be31-b76fc6364a1f",
   "metadata": {},
   "outputs": [
    {
     "data": {
      "text/plain": [
       "[<li>Audi</li>,\n",
       " <li>BMW</li>,\n",
       " <li>Chevrolet</li>,\n",
       " <li>Dodge</li>,\n",
       " <li>Ford</li>]"
      ]
     },
     "execution_count": 11,
     "metadata": {},
     "output_type": "execute_result"
    }
   ],
   "source": [
    "ordered_cars_items"
   ]
  },
  {
   "cell_type": "code",
   "execution_count": 12,
   "id": "1bde80a4-0b28-454c-91d8-bdca42bad784",
   "metadata": {},
   "outputs": [
    {
     "name": "stdout",
     "output_type": "stream",
     "text": [
      "Audi\n",
      "BMW\n",
      "Chevrolet\n",
      "Dodge\n",
      "Ford\n"
     ]
    }
   ],
   "source": [
    "for car in ordered_cars_items:\n",
    "    print(car.text)"
   ]
  },
  {
   "cell_type": "code",
   "execution_count": null,
   "id": "3fbdc39b-de4a-408f-b3a1-93bb1ab12de7",
   "metadata": {},
   "outputs": [],
   "source": []
  },
  {
   "cell_type": "code",
   "execution_count": null,
   "id": "44cd9b2f-b82b-4c46-9ee7-587ed851811d",
   "metadata": {},
   "outputs": [],
   "source": []
  },
  {
   "cell_type": "code",
   "execution_count": null,
   "id": "a5a5773c-7d73-4fcd-8b91-e087a9895b47",
   "metadata": {},
   "outputs": [],
   "source": []
  }
 ],
 "metadata": {
  "kernelspec": {
   "display_name": "Python 3 (ipykernel)",
   "language": "python",
   "name": "python3"
  },
  "language_info": {
   "codemirror_mode": {
    "name": "ipython",
    "version": 3
   },
   "file_extension": ".py",
   "mimetype": "text/x-python",
   "name": "python",
   "nbconvert_exporter": "python",
   "pygments_lexer": "ipython3",
   "version": "3.10.12"
  }
 },
 "nbformat": 4,
 "nbformat_minor": 5
}
