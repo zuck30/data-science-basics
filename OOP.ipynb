{
 "cells": [
  {
   "cell_type": "code",
   "execution_count": 31,
   "id": "c880d5a1-c632-4d1c-89b6-9b7652727ccd",
   "metadata": {},
   "outputs": [],
   "source": [
    "# class Person:\n",
    "#     brain = True\n",
    "\n",
    "#     def __init__(self, jina, miguu):\n",
    "#         self.name = jina\n",
    "#         self.legs = miguu\n",
    "\n",
    "#     def walk(self):\n",
    "#         if self.legs == 2:\n",
    "#             print('bipedalism')\n",
    "#         else:\n",
    "#             print(\"use wheelchair\")\n",
    "            \n",
    "            \n",
    "# mtu1 = Person(miguu = 2, jina = \"juma\" )\n",
    "# mtu2 = Person(miguu = 0, jina = \"kulwa\" )\n",
    "\n",
    "# mtu1.walk()\n",
    "# mtu2.walk()"
   ]
  },
  {
   "cell_type": "code",
   "execution_count": 4,
   "id": "b475ea37-9de7-445f-aa7a-a489b1190e80",
   "metadata": {},
   "outputs": [],
   "source": [
    "name1 = \"juma\"\n",
    "legs1 = \"2\"\n",
    "def juma_walk(legs1):\n",
    "    if legs1 == 2:\n",
    "        print(\"bipedalism\")\n",
    "juma_walk(legs1)"
   ]
  },
  {
   "cell_type": "code",
   "execution_count": 5,
   "id": "9ef7b125-a7ac-4742-96c8-f03e39011388",
   "metadata": {},
   "outputs": [
    {
     "name": "stdout",
     "output_type": "stream",
     "text": [
      "wheel chai\n"
     ]
    }
   ],
   "source": [
    "name2 = \"asha\"\n",
    "legs2 = \"1\"\n",
    "def asha_walk(leg2):\n",
    "    if legs2 == 2:\n",
    "        print(\"bipedalism\")\n",
    "    else:\n",
    "        print(\"wheel chair\")\n",
    "asha_walk(legs2)"
   ]
  },
  {
   "cell_type": "code",
   "execution_count": 25,
   "id": "d66555f8-31bf-4f4b-be84-6068fbb82841",
   "metadata": {},
   "outputs": [],
   "source": [
    "class Person:\n",
    "    brain = True\n",
    "\n",
    "    def __init__(self, jina, miguu):\n",
    "        self.name = jina\n",
    "        self.legs = miguu\n",
    "\n",
    "    def walk(self):\n",
    "        if self.legs == 2:\n",
    "            print('bipedalism')\n",
    "        else:\n",
    "            print(\"use wheelchair\")"
   ]
  },
  {
   "cell_type": "code",
   "execution_count": 26,
   "id": "1707ab8a-3851-47c9-8b3c-aebc4995b02b",
   "metadata": {},
   "outputs": [],
   "source": [
    "juma = Person(jina = \"juma mtambalike\", miguu = 2)"
   ]
  },
  {
   "cell_type": "code",
   "execution_count": 27,
   "id": "549ca618-0a53-4811-a4e0-13fcdf998c4e",
   "metadata": {},
   "outputs": [
    {
     "data": {
      "text/plain": [
       "2"
      ]
     },
     "execution_count": 27,
     "metadata": {},
     "output_type": "execute_result"
    }
   ],
   "source": [
    "juma.legs"
   ]
  },
  {
   "cell_type": "code",
   "execution_count": 29,
   "id": "db9e3e23-ef85-49bd-88d7-44e7b43fd5a7",
   "metadata": {},
   "outputs": [
    {
     "name": "stdout",
     "output_type": "stream",
     "text": [
      "bipedalism\n"
     ]
    }
   ],
   "source": [
    "juma.walk()"
   ]
  },
  {
   "cell_type": "code",
   "execution_count": 30,
   "id": "e6a83f32-e00c-452a-9b38-33cf231f7fb5",
   "metadata": {},
   "outputs": [
    {
     "name": "stdout",
     "output_type": "stream",
     "text": [
      "bipedalism\n"
     ]
    }
   ],
   "source": [
    "Person.walk(juma)"
   ]
  },
  {
   "cell_type": "code",
   "execution_count": 62,
   "id": "317ce8ad-4b3f-485e-8b95-c4441ba0c1fe",
   "metadata": {},
   "outputs": [],
   "source": [
    "class Mammal:\n",
    "    homothemic = True\n",
    "    vetebrate = True\n",
    "    breast_feeding = True\n",
    "\n",
    "    def breast_feeding_(self):\n",
    "        if self.breast_feeding == True:\n",
    "            print(\"this mammal can breast_feed\")\n",
    "        else:\n",
    "            print(\"this mammal cannot breast_feed\")"
   ]
  },
  {
   "cell_type": "code",
   "execution_count": 63,
   "id": "5cf42010-dc4d-47b1-a3f3-459345f6aa53",
   "metadata": {},
   "outputs": [
    {
     "name": "stdout",
     "output_type": "stream",
     "text": [
      "this mammal can breast_feed\n",
      "this mammal cannot breast_feed\n"
     ]
    }
   ],
   "source": [
    "mammal1 = Mammal()\n",
    "\n",
    "mammal1.breast_feeding_()\n",
    "\n",
    "mammal1.breast_feeding = False\n",
    "\n",
    "mammal1.breast_feeding_()"
   ]
  },
  {
   "cell_type": "code",
   "execution_count": 64,
   "id": "2a31500f-a048-432a-88e4-0a6fcb694bda",
   "metadata": {},
   "outputs": [],
   "source": [
    "class Person(Mammal):\n",
    "    brain = True\n",
    "\n",
    "    def __init__(self, jina, miguu):\n",
    "        self.name = jina\n",
    "        if miguu >= 0 and miguu <= 3:\n",
    "            self.legs = miguu\n",
    "        else:\n",
    "            raise ValueError(\"Enter right number of legs, the ideal value is between 0 and 3\")\n",
    "\n",
    "    def walk(self):\n",
    "        if self.legs == 2:\n",
    "            print('bipedalism')\n",
    "        else:\n",
    "            print(\"use wheelchair\")"
   ]
  },
  {
   "cell_type": "code",
   "execution_count": 65,
   "id": "ed5ff6b3-1afe-4639-bf50-3811955c5f47",
   "metadata": {},
   "outputs": [],
   "source": [
    "try:\n",
    "    mtu1 = Person(miguu = 1, jina = \"juma\" )\n",
    "except ValueError:\n",
    "    print(\"caught a value error, so object was not created\")"
   ]
  },
  {
   "cell_type": "code",
   "execution_count": 67,
   "id": "2b9338ec-5bfb-4644-a3ab-d3a40c12f63f",
   "metadata": {},
   "outputs": [
    {
     "data": {
      "text/plain": [
       "True"
      ]
     },
     "execution_count": 67,
     "metadata": {},
     "output_type": "execute_result"
    }
   ],
   "source": [
    "mtu1.homothemic"
   ]
  },
  {
   "cell_type": "code",
   "execution_count": 47,
   "id": "aabb582e-0001-42f5-9c91-4fea3b85dcf7",
   "metadata": {},
   "outputs": [],
   "source": [
    "class One:\n",
    "    pass"
   ]
  },
  {
   "cell_type": "code",
   "execution_count": 48,
   "id": "9689320a-c034-4b6e-809d-0ee036a1f7d4",
   "metadata": {},
   "outputs": [],
   "source": [
    "one = One()"
   ]
  },
  {
   "cell_type": "code",
   "execution_count": null,
   "id": "3edeb920-abb4-458f-873a-a1d8aa2e2fe7",
   "metadata": {},
   "outputs": [],
   "source": []
  }
 ],
 "metadata": {
  "kernelspec": {
   "display_name": "Python 3 (ipykernel)",
   "language": "python",
   "name": "python3"
  },
  "language_info": {
   "codemirror_mode": {
    "name": "ipython",
    "version": 3
   },
   "file_extension": ".py",
   "mimetype": "text/x-python",
   "name": "python",
   "nbconvert_exporter": "python",
   "pygments_lexer": "ipython3",
   "version": "3.10.12"
  }
 },
 "nbformat": 4,
 "nbformat_minor": 5
}
