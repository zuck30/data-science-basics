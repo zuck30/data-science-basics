{
 "cells": [
  {
   "cell_type": "code",
   "execution_count": 5,
   "id": "ccd35431-5487-4a00-b39a-1eb1f2523d52",
   "metadata": {},
   "outputs": [],
   "source": [
    "class Engine:\n",
    "    def start(self):\n",
    "        print(\"start\")\n",
    "    def stop(self):\n",
    "        print(\"stop\")"
   ]
  },
  {
   "cell_type": "code",
   "execution_count": 6,
   "id": "b35f2900-4084-412f-8973-f3f1f095c436",
   "metadata": {},
   "outputs": [],
   "source": [
    "class ElectricEngine(Engine): # Is-A Engine\n",
    "    pass\n",
    "\n",
    "    \n",
    "class V8Engine(Engine): # Is-A Engine\n",
    "    pass"
   ]
  },
  {
   "cell_type": "code",
   "execution_count": 10,
   "id": "669964eb-e6c6-4939-b924-f220a8c825f2",
   "metadata": {},
   "outputs": [],
   "source": [
    "class Car:\n",
    "    engine_cls = Engine\n",
    "    \n",
    "    def __init__(self):\n",
    "        self.engine = self.engine_cls() # Has-A Engine\n",
    "        \n",
    "    def start(self):\n",
    "        self.engine.start()\n",
    "        \n",
    "    def stop(self):\n",
    "        self.engine.stop()"
   ]
  },
  {
   "cell_type": "code",
   "execution_count": 11,
   "id": "7625de92-c776-4f0b-860e-4eeeb466830a",
   "metadata": {},
   "outputs": [],
   "source": [
    "car1 = Car()"
   ]
  },
  {
   "cell_type": "code",
   "execution_count": 12,
   "id": "46d60428-f859-41ce-aba0-46550d7e71a3",
   "metadata": {},
   "outputs": [],
   "source": [
    "v8 = V8Engine()"
   ]
  },
  {
   "cell_type": "code",
   "execution_count": 14,
   "id": "162f3630-29f9-4efe-9015-064881d869f8",
   "metadata": {},
   "outputs": [],
   "source": [
    "class RaceCar(Car): # Is-A Car\n",
    "    engine_cls = V8Engine\n",
    "\n",
    "    \n",
    "class CityCar(Car): # Is-A Car\n",
    "    engine_cls = ElectricEngine\n",
    "\n"
   ]
  },
  {
   "cell_type": "code",
   "execution_count": 15,
   "id": "155b21e1-3c71-4b3c-a896-68aa31f6229a",
   "metadata": {},
   "outputs": [],
   "source": [
    "car = Car()\n",
    "racecar = RaceCar()\n",
    "citycar = CityCar()"
   ]
  },
  {
   "cell_type": "markdown",
   "id": "f90a8e2b-7a15-477d-9af9-6e02f6818cb2",
   "metadata": {},
   "source": [
    "# overriding"
   ]
  },
  {
   "cell_type": "code",
   "execution_count": 16,
   "id": "47d54f1e-9dce-4e27-98eb-62d534e556b3",
   "metadata": {},
   "outputs": [],
   "source": [
    "class Mammal:\n",
    "    homothemic = True\n",
    "    vetebrate = True\n",
    "    breast_feeding = True\n",
    "\n",
    "    def breast_feeding_(self):\n",
    "        if self.breast_feeding == True:\n",
    "            print(\"this mammal can breast_feed\")\n",
    "        else:\n",
    "            print(\"this mammal cannot breast_feed\")"
   ]
  },
  {
   "cell_type": "code",
   "execution_count": 17,
   "id": "2ce7fcc8-8942-41fc-b137-214008131b0a",
   "metadata": {},
   "outputs": [],
   "source": [
    "class Person(Mammal):\n",
    "    brain = True\n",
    "\n",
    "    def __init__(self, jina):\n",
    "        self.name = jina\n",
    "    "
   ]
  },
  {
   "cell_type": "code",
   "execution_count": 73,
   "id": "d43fe49f-65c8-4633-b341-b1b68e9216c4",
   "metadata": {},
   "outputs": [],
   "source": [
    "class Whale(Mammal):\n",
    "    breast_feeding = False\n",
    "    homothemic = False"
   ]
  },
  {
   "cell_type": "code",
   "execution_count": 74,
   "id": "280a3a93-2752-41e2-815d-6931f467f4ff",
   "metadata": {},
   "outputs": [],
   "source": [
    "whale1 = Whale()"
   ]
  },
  {
   "cell_type": "code",
   "execution_count": 75,
   "id": "f719f44c-ba72-4333-abb0-4374dcf3bd93",
   "metadata": {},
   "outputs": [
    {
     "name": "stdout",
     "output_type": "stream",
     "text": [
      "this mammal cannot breast_feed\n"
     ]
    }
   ],
   "source": [
    "whale1.breast_feeding_()"
   ]
  },
  {
   "cell_type": "markdown",
   "id": "97c393a4-3a20-4859-8f73-2d8668bba7d0",
   "metadata": {},
   "source": [
    "# Accessing a base class"
   ]
  },
  {
   "cell_type": "code",
   "execution_count": 64,
   "id": "e510d62f-4671-4a1b-943c-4e75a329e43c",
   "metadata": {},
   "outputs": [],
   "source": [
    "class Book:\n",
    "    def __init__(self, title, publisher, pages):\n",
    "        self.title = title\n",
    "        self.publisher = publisher\n",
    "        self.pages = int(pages)\n",
    "        "
   ]
  },
  {
   "cell_type": "code",
   "execution_count": 65,
   "id": "48663dc5-84e4-45bc-9dd6-3eaf0c3a039c",
   "metadata": {},
   "outputs": [],
   "source": [
    "class Ebook(Book):\n",
    "    def __init__(self, title, publisher, pages, format):\n",
    "         self.title = title\n",
    "         self.publisher = publisher\n",
    "         self.pages = pages\n",
    "         self.format = format"
   ]
  },
  {
   "cell_type": "code",
   "execution_count": 66,
   "id": "05ca9613-e817-4d9c-aaec-8d2361fec23d",
   "metadata": {},
   "outputs": [],
   "source": [
    "eb1 = Ebook(title = \"kitabu\", format = \"pdf\", publisher= \"nyambari\", pages = \"30\")"
   ]
  },
  {
   "cell_type": "code",
   "execution_count": 67,
   "id": "0ae7cfb6-3249-4993-a4fe-7e34f8fff5b4",
   "metadata": {},
   "outputs": [
    {
     "data": {
      "text/plain": [
       "'30'"
      ]
     },
     "execution_count": 67,
     "metadata": {},
     "output_type": "execute_result"
    }
   ],
   "source": [
    "eb1.pages"
   ]
  },
  {
   "cell_type": "code",
   "execution_count": 78,
   "id": "17195eb9-aa76-48c6-8db7-afdebb20e916",
   "metadata": {},
   "outputs": [],
   "source": [
    "class Ebook(Book):\n",
    "    def __init__(self, title, publisher, pages, format):\n",
    "        # this call the __init__ function from  the parent(base) class which is class book\n",
    "         super().__init__(title, publisher, pages)\n",
    "         self.format = format"
   ]
  },
  {
   "cell_type": "code",
   "execution_count": 79,
   "id": "95f404fd-57a1-4a61-a593-d55633f47b96",
   "metadata": {},
   "outputs": [],
   "source": [
    "eb2 = Ebook(title = \"kitabu\", publisher= \"nyambari\", pages = \"30\", format = \"pdf\",)"
   ]
  },
  {
   "cell_type": "code",
   "execution_count": 72,
   "id": "9de7713a-ff4d-4c0c-b4ec-38906292b270",
   "metadata": {},
   "outputs": [
    {
     "data": {
      "text/plain": [
       "30"
      ]
     },
     "execution_count": 72,
     "metadata": {},
     "output_type": "execute_result"
    }
   ],
   "source": [
    "eb2.pages"
   ]
  },
  {
   "cell_type": "code",
   "execution_count": null,
   "id": "cf7c7bbc-04f7-4781-ad3f-eb661d462eb7",
   "metadata": {},
   "outputs": [],
   "source": []
  }
 ],
 "metadata": {
  "kernelspec": {
   "display_name": "Python 3 (ipykernel)",
   "language": "python",
   "name": "python3"
  },
  "language_info": {
   "codemirror_mode": {
    "name": "ipython",
    "version": 3
   },
   "file_extension": ".py",
   "mimetype": "text/x-python",
   "name": "python",
   "nbconvert_exporter": "python",
   "pygments_lexer": "ipython3",
   "version": "3.10.12"
  }
 },
 "nbformat": 4,
 "nbformat_minor": 5
}
