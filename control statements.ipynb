{
 "cells": [
  {
   "cell_type": "markdown",
   "id": "a18b2a52-32ef-4d43-9f7d-363c8c6d7b97",
   "metadata": {},
   "source": [
    "# IF CLAUSE"
   ]
  },
  {
   "cell_type": "code",
   "execution_count": 1,
   "id": "5b7c956a-326c-4b61-acdd-3a2e8f25b5f4",
   "metadata": {},
   "outputs": [],
   "source": [
    "raining = True"
   ]
  },
  {
   "cell_type": "code",
   "execution_count": 2,
   "id": "1caa3fc2-c40e-4724-a32e-718d14de091b",
   "metadata": {},
   "outputs": [
    {
     "name": "stdout",
     "output_type": "stream",
     "text": [
      "take umbrella\n"
     ]
    }
   ],
   "source": [
    "if raining:\n",
    "    print(\"take umbrella\")"
   ]
  },
  {
   "cell_type": "code",
   "execution_count": 3,
   "id": "d4fbd534-3699-44fa-b2be-508bf454d1b6",
   "metadata": {},
   "outputs": [],
   "source": [
    "raining = False"
   ]
  },
  {
   "cell_type": "code",
   "execution_count": 4,
   "id": "e685bd4e-56d4-431f-a6a2-102fe75584eb",
   "metadata": {},
   "outputs": [],
   "source": [
    "if raining:\n",
    "    print(\"take umbrella\")"
   ]
  },
  {
   "cell_type": "markdown",
   "id": "c6226be1-4f51-4135-b9ef-5d8260f79c00",
   "metadata": {},
   "source": [
    "## else clause"
   ]
  },
  {
   "cell_type": "code",
   "execution_count": 6,
   "id": "57cd1fa8-847d-4f5f-94d6-e48976e98cd9",
   "metadata": {},
   "outputs": [
    {
     "name": "stdout",
     "output_type": "stream",
     "text": [
      "no need for an umbrella\n"
     ]
    }
   ],
   "source": [
    "if raining:\n",
    "    print(\"take umbrella\")\n",
    "else:\n",
    "    print(\"no need for an umbrella\")\n",
    "    # pass"
   ]
  },
  {
   "cell_type": "code",
   "execution_count": 17,
   "id": "6c7b13fc-cf9b-41db-a612-09702b598e00",
   "metadata": {},
   "outputs": [],
   "source": [
    "marks =  40"
   ]
  },
  {
   "cell_type": "code",
   "execution_count": 20,
   "id": "4c410431-8329-4f0d-984b-b723a26e6dff",
   "metadata": {},
   "outputs": [
    {
     "data": {
      "text/plain": [
       "True"
      ]
     },
     "execution_count": 20,
     "metadata": {},
     "output_type": "execute_result"
    }
   ],
   "source": [
    "marks >= 40 and marks < 70"
   ]
  },
  {
   "cell_type": "code",
   "execution_count": 22,
   "id": "1cf4675a-7c38-48d6-ad56-399325278f1d",
   "metadata": {},
   "outputs": [
    {
     "name": "stdout",
     "output_type": "stream",
     "text": [
      "average\n"
     ]
    }
   ],
   "source": [
    "if marks >= 70 and marks <= 100:\n",
    "    print(\"good\")\n",
    "elif marks >= 40 and marks < 70:\n",
    "    print(\"average\")\n",
    "elif marks >= 0 and marks < 40:\n",
    "    print(\"bad\")\n",
    "else:\n",
    "    print(\"enter values in range of 0 to 100 only\")"
   ]
  },
  {
   "cell_type": "code",
   "execution_count": 45,
   "id": "db75724a-1de8-4f8b-a328-dab81e9cae94",
   "metadata": {},
   "outputs": [],
   "source": [
    "sentence = \"aonoansddfdv to upper\""
   ]
  },
  {
   "cell_type": "code",
   "execution_count": 46,
   "id": "aa3a929b-52f4-402c-ab74-0d8a08ac1f3a",
   "metadata": {},
   "outputs": [
    {
     "data": {
      "text/plain": [
       "True"
      ]
     },
     "execution_count": 46,
     "metadata": {},
     "output_type": "execute_result"
    }
   ],
   "source": [
    "\"upper\" in sentence"
   ]
  },
  {
   "cell_type": "code",
   "execution_count": 43,
   "id": "347da39b-bb7c-4dff-bdbd-b4513a8ded3f",
   "metadata": {},
   "outputs": [],
   "source": [
    "if \"upper\" in sentence:\n",
    "    sentence = sentence[:sentence.index(\"upper\")]\n",
    "    sentence = sentence.upper()"
   ]
  },
  {
   "cell_type": "code",
   "execution_count": 44,
   "id": "39c0a205-5635-480a-8b41-f568126a5e67",
   "metadata": {},
   "outputs": [
    {
     "data": {
      "text/plain": [
       "'AONOANSDDFDV TO '"
      ]
     },
     "execution_count": 44,
     "metadata": {},
     "output_type": "execute_result"
    }
   ],
   "source": [
    "sentence"
   ]
  },
  {
   "cell_type": "markdown",
   "id": "89f51ea3-86fd-4a38-9528-6581104b1073",
   "metadata": {},
   "source": [
    "# FOR LOOP"
   ]
  },
  {
   "cell_type": "code",
   "execution_count": 48,
   "id": "f3cca5e0-b3e5-42c4-b681-dae9c689c8b5",
   "metadata": {},
   "outputs": [],
   "source": [
    "nambas = [1,2,3,4,5,6]"
   ]
  },
  {
   "cell_type": "code",
   "execution_count": 51,
   "id": "0c326c39-c994-4573-8f67-8827a2cfdb2c",
   "metadata": {},
   "outputs": [
    {
     "name": "stdout",
     "output_type": "stream",
     "text": [
      "1\n",
      "2\n",
      "3\n",
      "4\n",
      "5\n",
      "6\n"
     ]
    }
   ],
   "source": [
    "for namba in nambas:\n",
    "    print(namba)"
   ]
  },
  {
   "cell_type": "code",
   "execution_count": 52,
   "id": "77f3e0e2-e840-4678-8172-2bd26e203ab0",
   "metadata": {},
   "outputs": [],
   "source": [
    "names = [\"kulwa\",\"john\", \"asia\", \"rama\",\"idris\"]"
   ]
  },
  {
   "cell_type": "code",
   "execution_count": 57,
   "id": "b36f492e-2efb-4692-9bb5-96c872bb6648",
   "metadata": {},
   "outputs": [
    {
     "name": "stdout",
     "output_type": "stream",
     "text": [
      "kulwa\n",
      "asia\n",
      "rama\n"
     ]
    }
   ],
   "source": [
    "for name in names:\n",
    "    if \"a\" in name:\n",
    "        print(name)"
   ]
  },
  {
   "cell_type": "code",
   "execution_count": 58,
   "id": "bf7e679b-2e30-4454-8c99-bcb28ef48dcb",
   "metadata": {},
   "outputs": [
    {
     "name": "stdout",
     "output_type": "stream",
     "text": [
      "2\n",
      "4\n",
      "6\n"
     ]
    }
   ],
   "source": [
    "for namba in nambas:\n",
    "    if namba % 2 == 0:\n",
    "        print(namba)"
   ]
  },
  {
   "cell_type": "markdown",
   "id": "3d3771f6-5b8c-4992-b0b5-875f7fe4719b",
   "metadata": {},
   "source": [
    "## range"
   ]
  },
  {
   "cell_type": "code",
   "execution_count": 62,
   "id": "21a56321-b006-4276-9213-7ec5b237166d",
   "metadata": {},
   "outputs": [
    {
     "data": {
      "text/plain": [
       "[0, 2, 4, 6, 8, 10]"
      ]
     },
     "execution_count": 62,
     "metadata": {},
     "output_type": "execute_result"
    }
   ],
   "source": [
    "list(range(0,11,2))"
   ]
  },
  {
   "cell_type": "code",
   "execution_count": 65,
   "id": "4e518db9-7f8c-4e94-b708-2b34da2afea3",
   "metadata": {},
   "outputs": [
    {
     "name": "stdout",
     "output_type": "stream",
     "text": [
      "0\n",
      "2\n",
      "4\n",
      "6\n",
      "8\n"
     ]
    }
   ],
   "source": [
    "for namba in range(0,10,2):\n",
    "    print(namba)"
   ]
  },
  {
   "cell_type": "markdown",
   "id": "dd109236-8bba-4488-9bdc-2047d0b00358",
   "metadata": {},
   "source": [
    "## zip"
   ]
  },
  {
   "cell_type": "code",
   "execution_count": 68,
   "id": "35e70ddc-b0b4-4042-9f78-5591062646f3",
   "metadata": {},
   "outputs": [
    {
     "name": "stdout",
     "output_type": "stream",
     "text": [
      "(1, 'kulwa')\n",
      "(2, 'john')\n",
      "(3, 'asia')\n",
      "(4, 'rama')\n",
      "(5, 'idris')\n"
     ]
    }
   ],
   "source": [
    "for tpl in zip(nambas,names):\n",
    "    print(tpl)"
   ]
  },
  {
   "cell_type": "markdown",
   "id": "f2f2953c-b5f3-451b-903f-24ed62e55d8d",
   "metadata": {},
   "source": [
    "## enumerate"
   ]
  },
  {
   "cell_type": "code",
   "execution_count": 75,
   "id": "24b6692b-84e4-4ea1-956f-5c9c912e4b88",
   "metadata": {},
   "outputs": [
    {
     "name": "stdout",
     "output_type": "stream",
     "text": [
      "(0, 'kulwa')\n",
      "(1, 'john')\n",
      "(2, 'asia')\n",
      "(3, 'rama')\n",
      "(4, 'idris')\n"
     ]
    }
   ],
   "source": [
    "for name in enumerate(names):\n",
    "    print(name)"
   ]
  },
  {
   "cell_type": "markdown",
   "id": "76885680-e6fb-46bd-8b62-988f400afbcd",
   "metadata": {},
   "source": [
    "# WHILE LOOP"
   ]
  },
  {
   "cell_type": "code",
   "execution_count": 79,
   "id": "f957df9d-a9e9-46b2-94a6-df4cbeb154bd",
   "metadata": {},
   "outputs": [],
   "source": [
    "raining = True"
   ]
  },
  {
   "cell_type": "code",
   "execution_count": 82,
   "id": "fc30a0b3-fe44-4420-b4b1-c7d32f5100fa",
   "metadata": {},
   "outputs": [
    {
     "name": "stdout",
     "output_type": "stream",
     "text": [
      "dont go outside\n",
      "dont go outside\n",
      "dont go outside\n",
      "dont go outside\n",
      "dont go outside\n"
     ]
    }
   ],
   "source": [
    "n = 0\n",
    "while raining:\n",
    "    print(\"dont go outside\")\n",
    "    n = n + 1\n",
    "    if n == 5:\n",
    "        break"
   ]
  },
  {
   "cell_type": "code",
   "execution_count": null,
   "id": "be0aca01-3ae7-4d8f-98d3-528f160c32f1",
   "metadata": {},
   "outputs": [],
   "source": []
  }
 ],
 "metadata": {
  "kernelspec": {
   "display_name": "Python 3 (ipykernel)",
   "language": "python",
   "name": "python3"
  },
  "language_info": {
   "codemirror_mode": {
    "name": "ipython",
    "version": 3
   },
   "file_extension": ".py",
   "mimetype": "text/x-python",
   "name": "python",
   "nbconvert_exporter": "python",
   "pygments_lexer": "ipython3",
   "version": "3.10.12"
  }
 },
 "nbformat": 4,
 "nbformat_minor": 5
}
