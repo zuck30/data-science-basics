{
 "cells": [
  {
   "cell_type": "code",
   "execution_count": 2,
   "id": "a5fc413d-3c7a-41ca-86b4-66421eb570e0",
   "metadata": {},
   "outputs": [],
   "source": [
    "from requests import get\n",
    "\n",
    "url = get(\"https://www.bbc.com/swahili/topics/cvjp2jj60v3t\")\n",
    "\n",
    "request = url.text"
   ]
  },
  {
   "cell_type": "code",
   "execution_count": 15,
   "id": "86a6e906-dafb-4694-9f0f-25b0b0357182",
   "metadata": {},
   "outputs": [],
   "source": [
    "from bs4 import BeautifulSoup as soup\n",
    "\n",
    "soup_data = soup(request, 'html.parser' )"
   ]
  },
  {
   "cell_type": "code",
   "execution_count": 36,
   "id": "77bce5fe-008e-486a-bb67-13967f3f762d",
   "metadata": {},
   "outputs": [],
   "source": [
    "promo_text = soup_data.find_all(\"div\", {\"class\":\"promo-text\"})"
   ]
  },
  {
   "cell_type": "code",
   "execution_count": 50,
   "id": "ed96fbf4-a2fe-4089-8257-962c18f6a20c",
   "metadata": {},
   "outputs": [
    {
     "name": "stdout",
     "output_type": "stream",
     "text": [
      "<div class=\"promo-text\">\n",
      " <h2 class=\"bbc-110w6ng e47bds20\">\n",
      "  <a class=\"focusIndicatorDisplayBlock bbc-uk8dsi e1d658bg0\" href=\"https://www.bbc.com/swahili/articles/c3g80jnz8dko\">\n",
      "   Tetesi za Soka Ulaya Jumatano 09.08.2023\n",
      "  </a>\n",
      " </h2>\n",
      " <time class=\"bbc-idwms3 e1mklfmt0\" datetime=\"2023-08-09\">\n",
      "  9 Agosti 2023\n",
      " </time>\n",
      "</div>\n"
     ]
    }
   ],
   "source": [
    "print(promo_text[0].prettify())"
   ]
  },
  {
   "cell_type": "code",
   "execution_count": 60,
   "id": "662deaa5-2ee1-462e-92b2-f0de325134e0",
   "metadata": {},
   "outputs": [
    {
     "data": {
      "text/plain": [
       "<a class=\"focusIndicatorDisplayBlock bbc-uk8dsi e1d658bg0\" href=\"https://www.bbc.com/swahili/articles/c3g80jnz8dko\">Tetesi za Soka Ulaya Jumatano 09.08.2023</a>"
      ]
     },
     "execution_count": 60,
     "metadata": {},
     "output_type": "execute_result"
    }
   ],
   "source": [
    "anchor = promo_text[0].find(\"a\")\n",
    "anchor."
   ]
  },
  {
   "cell_type": "code",
   "execution_count": 69,
   "id": "bd95a699-58b1-423e-a390-cde2a1e69dc6",
   "metadata": {},
   "outputs": [],
   "source": [
    "data = []\n",
    "for taarifa in promo_text:\n",
    "    heading = taarifa.find(\"a\").text[:-10]\n",
    "    link = taarifa.find(\"a\")[\"href\"]\n",
    "    tarehe = taarifa.find(\"time\")[\"datetime\"]\n",
    "    \n",
    "    data.append({\n",
    "        \"heading\": heading,\n",
    "        \"link\": link,\n",
    "        \"tarehe\": tarehe\n",
    "    })\n"
   ]
  },
  {
   "cell_type": "code",
   "execution_count": 70,
   "id": "b8a9e727-07b7-47cd-b599-98e0409737f7",
   "metadata": {},
   "outputs": [
    {
     "data": {
      "text/plain": [
       "[{'heading': 'Tetesi za Soka Ulaya Jumatano ',\n",
       "  'link': 'https://www.bbc.com/swahili/articles/c3g80jnz8dko',\n",
       "  'tarehe': '2023-08-09'},\n",
       " {'heading': 'Tetesi za Soka Ulaya Jumanne ',\n",
       "  'link': 'https://www.bbc.com/swahili/articles/cl4me41n2x7o',\n",
       "  'tarehe': '2023-08-08'},\n",
       " {'heading': 'Je, kuna vyakula vinavyoweza kukufanya unuk',\n",
       "  'link': 'https://www.bbc.com/swahili/articles/cd14d2zrr1po',\n",
       "  'tarehe': '2023-08-07'},\n",
       " {'heading': 'Tetesi za Soka Ulaya Jumatatu ',\n",
       "  'link': 'https://www.bbc.com/swahili/articles/c9xj270n94lo',\n",
       "  'tarehe': '2023-08-07'},\n",
       " {'heading': 'Tetesi za Soka Ulaya Jumapili ',\n",
       "  'link': 'https://www.bbc.com/swahili/articles/c72l7p94xxlo',\n",
       "  'tarehe': '2023-08-06'},\n",
       " {'heading': 'Tetesi 5 kubwa za Soka',\n",
       "  'link': 'https://www.bbc.com/swahili/articles/cjrlp14enw2o',\n",
       "  'tarehe': '2023-08-05'},\n",
       " {'heading': 'Tetesi za Soka Ulaya Jumamosi ',\n",
       "  'link': 'https://www.bbc.com/swahili/articles/c99xeg575e7o',\n",
       "  'tarehe': '2023-08-05'},\n",
       " {'heading': 'Manchester City: Je, Arsenal, Liverpool, Man Utd zinaweza kumzuia bi',\n",
       "  'link': 'https://www.bbc.com/swahili/articles/cnlyw421jlzo',\n",
       "  'tarehe': '2023-08-04'},\n",
       " {'heading': 'Tetesi za Soka Ulaya Ijumaa ',\n",
       "  'link': 'https://www.bbc.com/swahili/articles/cg34eenek14o',\n",
       "  'tarehe': '2023-08-04'},\n",
       " {'heading': 'Tetesi kubwa 5 za Soka Ulaya',\n",
       "  'link': 'https://www.bbc.com/swahili/articles/c512l7jj07vo',\n",
       "  'tarehe': '2023-08-03'},\n",
       " {'heading': \"'Sioni hili likibadilika' - Saudia kuendelea kumwaga pesa kuwanunua \",\n",
       "  'link': 'https://www.bbc.com/swahili/articles/c90v7nllw13o',\n",
       "  'tarehe': '2023-08-03'},\n",
       " {'heading': 'Ligi Kuu ya Uingereza: Wachezaji watano vijana wanaosaka mafanikio msi',\n",
       "  'link': 'https://www.bbc.com/swahili/articles/cw5r6zl34g5o',\n",
       "  'tarehe': '2023-08-03'},\n",
       " {'heading': 'Tetesi za Soka Ulaya Alhamisi ',\n",
       "  'link': 'https://www.bbc.com/swahili/articles/c4nv5zdgv5po',\n",
       "  'tarehe': '2023-08-03'},\n",
       " {'heading': 'Tetesi kubwa 5 za Soka Ulaya',\n",
       "  'link': 'https://www.bbc.com/swahili/articles/c72kegry405o',\n",
       "  'tarehe': '2023-08-02'},\n",
       " {'heading': 'Tetesi za Soka Ulaya Jumatano ',\n",
       "  'link': 'https://www.bbc.com/swahili/articles/c3gdwpd7qedo',\n",
       "  'tarehe': '2023-08-02'},\n",
       " {'heading': 'Tetesi za Soka Ulaya Jumanne ',\n",
       "  'link': 'https://www.bbc.com/swahili/articles/c9r11rxnxdvo',\n",
       "  'tarehe': '2023-08-01'},\n",
       " {'heading': 'Tetesi kubwa 5 za Soka Ulay',\n",
       "  'link': 'https://www.bbc.com/swahili/articles/cne00vy4mx1o',\n",
       "  'tarehe': '2023-07-31'},\n",
       " {'heading': 'Tetesi za Soka Ulaya Jumapili ',\n",
       "  'link': 'https://www.bbc.com/swahili/articles/ck7vd90drk3o',\n",
       "  'tarehe': '2023-07-30'},\n",
       " {'heading': 'Mambo 6 ya kuzingatia ufanyapo mazoezi ',\n",
       "  'link': 'https://www.bbc.com/swahili/articles/cp60yrx93g2o',\n",
       "  'tarehe': '2023-07-29'},\n",
       " {'heading': 'Tetesi za Soka Ulaya Jumamosi ',\n",
       "  'link': 'https://www.bbc.com/swahili/articles/crg7z260dp9o',\n",
       "  'tarehe': '2023-07-29'},\n",
       " {'heading': 'Tetesi tano za soka',\n",
       "  'link': 'https://www.bbc.com/swahili/articles/cy9q0z41p7do',\n",
       "  'tarehe': '2023-07-28'},\n",
       " {'heading': 'Tetesi za Soka Ulaya Ijumaa ',\n",
       "  'link': 'https://www.bbc.com/swahili/articles/crg7e783v88o',\n",
       "  'tarehe': '2023-07-28'},\n",
       " {'heading': 'Tetesi tano kubwa',\n",
       "  'link': 'https://www.bbc.com/swahili/articles/c1e0pv04ljwo',\n",
       "  'tarehe': '2023-07-27'},\n",
       " {'heading': 'Tetesi za Soka Ulaya Alhamisi ',\n",
       "  'link': 'https://www.bbc.com/swahili/articles/cg3wdvz12x9o',\n",
       "  'tarehe': '2023-07-27'}]"
      ]
     },
     "execution_count": 70,
     "metadata": {},
     "output_type": "execute_result"
    }
   ],
   "source": [
    "data"
   ]
  },
  {
   "cell_type": "code",
   "execution_count": null,
   "id": "7c16b3bb-cace-4262-9088-bf292538b3c5",
   "metadata": {},
   "outputs": [],
   "source": []
  }
 ],
 "metadata": {
  "kernelspec": {
   "display_name": "Python 3 (ipykernel)",
   "language": "python",
   "name": "python3"
  },
  "language_info": {
   "codemirror_mode": {
    "name": "ipython",
    "version": 3
   },
   "file_extension": ".py",
   "mimetype": "text/x-python",
   "name": "python",
   "nbconvert_exporter": "python",
   "pygments_lexer": "ipython3",
   "version": "3.10.12"
  }
 },
 "nbformat": 4,
 "nbformat_minor": 5
}
