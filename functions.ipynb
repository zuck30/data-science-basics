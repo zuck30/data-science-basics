{
 "cells": [
  {
   "cell_type": "markdown",
   "id": "daf36def-8f40-4f7a-8a3a-e0f28b517392",
   "metadata": {},
   "source": [
    "# Functions"
   ]
  },
  {
   "cell_type": "code",
   "execution_count": 4,
   "id": "ce8985ba-ec8a-47f7-a2a8-d4cc6bd0c1d5",
   "metadata": {},
   "outputs": [],
   "source": [
    "now = 2023\n",
    "birth_year = 1997"
   ]
  },
  {
   "cell_type": "code",
   "execution_count": 5,
   "id": "abf1f1d8-caa8-4bfd-b22a-b7d93526205a",
   "metadata": {},
   "outputs": [
    {
     "data": {
      "text/plain": [
       "26"
      ]
     },
     "execution_count": 5,
     "metadata": {},
     "output_type": "execute_result"
    }
   ],
   "source": [
    "now - birth_year"
   ]
  },
  {
   "cell_type": "code",
   "execution_count": 7,
   "id": "030d5767-02ae-4e5b-9226-c86f7e6c4591",
   "metadata": {},
   "outputs": [],
   "source": [
    "def greet():\n",
    "    print(\"hello, welcome back\")"
   ]
  },
  {
   "cell_type": "code",
   "execution_count": 14,
   "id": "a2ed401b-5f43-49fa-9899-f3d72b59a4b7",
   "metadata": {},
   "outputs": [],
   "source": [
    "def greet(name):\n",
    "    print(\"hello, welcome back \", name)"
   ]
  },
  {
   "cell_type": "code",
   "execution_count": 19,
   "id": "50a892ba-f620-4515-87d8-aae54ae723b5",
   "metadata": {},
   "outputs": [
    {
     "name": "stdout",
     "output_type": "stream",
     "text": [
      "hello, welcome back  john\n"
     ]
    }
   ],
   "source": [
    "greet(\"john\")"
   ]
  },
  {
   "cell_type": "code",
   "execution_count": 22,
   "id": "c9d062fb-f27f-49be-b6ec-ab7b3cd4fc31",
   "metadata": {},
   "outputs": [],
   "source": [
    "def age_calc(birth_year):\n",
    "    age = 2023 - birth_year\n",
    "    return age"
   ]
  },
  {
   "cell_type": "code",
   "execution_count": 26,
   "id": "6cc423a9-a31f-4f00-acb5-97e29f005306",
   "metadata": {},
   "outputs": [],
   "source": [
    "umri = age_calc(2005)"
   ]
  },
  {
   "cell_type": "code",
   "execution_count": 27,
   "id": "21302e18-d7ae-417c-b6d2-b75ab9de704c",
   "metadata": {},
   "outputs": [
    {
     "data": {
      "text/plain": [
       "18"
      ]
     },
     "execution_count": 27,
     "metadata": {},
     "output_type": "execute_result"
    }
   ],
   "source": [
    "umri"
   ]
  },
  {
   "cell_type": "code",
   "execution_count": 38,
   "id": "d1934d1f-6c74-46c2-98f5-7608b8b07931",
   "metadata": {},
   "outputs": [
    {
     "name": "stdout",
     "output_type": "stream",
     "text": [
      "36\n"
     ]
    }
   ],
   "source": [
    "def multiplication(a,b,c=10):\n",
    "    \"\"\"\n",
    "    parameters:\n",
    "    a = required\n",
    "    b = required,\n",
    "    c = required but default is 10\n",
    "    this is the multiplications function\n",
    "    example usage:\n",
    "    product = multiplication(a = 2, c = 6, b = 3)\n",
    "    \"\"\"\n",
    "    product = a * b * c\n",
    "    return product\n",
    "    \n",
    "print(multiplication(2, c = 6, b = 3))"
   ]
  },
  {
   "cell_type": "code",
   "execution_count": null,
   "id": "2357fe41-3e7a-4c28-920b-a9e7d40725ea",
   "metadata": {},
   "outputs": [],
   "source": [
    "multiplication()"
   ]
  },
  {
   "cell_type": "code",
   "execution_count": 9,
   "id": "b9deda74-7c00-466b-b663-a223092d9e6a",
   "metadata": {},
   "outputs": [],
   "source": [
    "def gawanya(a, b):\n",
    "    try:\n",
    "        c = a / b\n",
    "        return c\n",
    "    except ZeroDivisionError:\n",
    "        print(\"cant divide by zero\")"
   ]
  },
  {
   "cell_type": "code",
   "execution_count": 10,
   "id": "16507398-5168-4fb4-a52c-5d4fdcb49f4c",
   "metadata": {},
   "outputs": [
    {
     "name": "stdout",
     "output_type": "stream",
     "text": [
      "cant divide by zero\n"
     ]
    }
   ],
   "source": [
    "gawanya(2,0)"
   ]
  },
  {
   "cell_type": "code",
   "execution_count": null,
   "id": "e63769cd-14a4-419b-8e09-662ce2375b4d",
   "metadata": {},
   "outputs": [],
   "source": []
  }
 ],
 "metadata": {
  "kernelspec": {
   "display_name": "Python 3 (ipykernel)",
   "language": "python",
   "name": "python3"
  },
  "language_info": {
   "codemirror_mode": {
    "name": "ipython",
    "version": 3
   },
   "file_extension": ".py",
   "mimetype": "text/x-python",
   "name": "python",
   "nbconvert_exporter": "python",
   "pygments_lexer": "ipython3",
   "version": "3.10.12"
  }
 },
 "nbformat": 4,
 "nbformat_minor": 5
}
