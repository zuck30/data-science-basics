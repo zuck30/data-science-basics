{
 "cells": [
  {
   "cell_type": "code",
   "execution_count": 1,
   "id": "536444fe-8315-4d51-9084-0446d90e8104",
   "metadata": {},
   "outputs": [
    {
     "name": "stdout",
     "output_type": "stream",
     "text": [
      "hello worlld\n"
     ]
    }
   ],
   "source": [
    "print(\"hello worlld\")"
   ]
  },
  {
   "cell_type": "markdown",
   "id": "59a02450-7bca-406e-a173-8a3355f958ca",
   "metadata": {},
   "source": [
    "# DATA HEADING"
   ]
  },
  {
   "cell_type": "markdown",
   "id": "0b94fd51-13e4-4e28-8ad3-3086921ebc04",
   "metadata": {},
   "source": [
    "## DATA CLEANING1"
   ]
  },
  {
   "cell_type": "code",
   "execution_count": 2,
   "id": "47dd379c-fa29-4205-b8cd-7a3f1e6ff2b6",
   "metadata": {},
   "outputs": [],
   "source": [
    "variable1 = 56"
   ]
  },
  {
   "cell_type": "code",
   "execution_count": 3,
   "id": "a6d3fd19-6c1a-48b9-832d-99a91128f6f4",
   "metadata": {},
   "outputs": [
    {
     "data": {
      "text/plain": [
       "60"
      ]
     },
     "execution_count": 3,
     "metadata": {},
     "output_type": "execute_result"
    }
   ],
   "source": [
    "56 + 4"
   ]
  },
  {
   "cell_type": "code",
   "execution_count": 4,
   "id": "54a15019-4173-42de-8f7b-fe7bfee0dd58",
   "metadata": {},
   "outputs": [
    {
     "data": {
      "text/plain": [
       "50"
      ]
     },
     "execution_count": 4,
     "metadata": {},
     "output_type": "execute_result"
    }
   ],
   "source": [
    "56 - 6"
   ]
  },
  {
   "cell_type": "code",
   "execution_count": 5,
   "id": "59327df3-0289-449e-9a40-fda84d9d2aca",
   "metadata": {},
   "outputs": [
    {
     "data": {
      "text/plain": [
       "112"
      ]
     },
     "execution_count": 5,
     "metadata": {},
     "output_type": "execute_result"
    }
   ],
   "source": [
    "56 * 2"
   ]
  },
  {
   "cell_type": "code",
   "execution_count": 6,
   "id": "61315bb3-67a3-4889-a485-c26ac19862b7",
   "metadata": {},
   "outputs": [
    {
     "data": {
      "text/plain": [
       "18.666666666666668"
      ]
     },
     "execution_count": 6,
     "metadata": {},
     "output_type": "execute_result"
    }
   ],
   "source": [
    "56 / 3"
   ]
  },
  {
   "cell_type": "code",
   "execution_count": 7,
   "id": "97d0bcde-962b-4ffa-ab6e-d3f695578582",
   "metadata": {},
   "outputs": [
    {
     "data": {
      "text/plain": [
       "1"
      ]
     },
     "execution_count": 7,
     "metadata": {},
     "output_type": "execute_result"
    }
   ],
   "source": [
    "10 % 3"
   ]
  },
  {
   "cell_type": "code",
   "execution_count": 8,
   "id": "ce8193c2-21e3-439c-88ae-e7db5c5686ea",
   "metadata": {},
   "outputs": [
    {
     "data": {
      "text/plain": [
       "3"
      ]
     },
     "execution_count": 8,
     "metadata": {},
     "output_type": "execute_result"
    }
   ],
   "source": [
    "10 // 3"
   ]
  },
  {
   "cell_type": "code",
   "execution_count": 9,
   "id": "5ba4ab14-0fdf-4dcd-b721-fa643b8ae302",
   "metadata": {},
   "outputs": [
    {
     "data": {
      "text/plain": [
       "8"
      ]
     },
     "execution_count": 9,
     "metadata": {},
     "output_type": "execute_result"
    }
   ],
   "source": [
    "2 ** 3"
   ]
  },
  {
   "cell_type": "code",
   "execution_count": 10,
   "id": "e07f5413-a716-488a-9a96-a05925111749",
   "metadata": {},
   "outputs": [
    {
     "name": "stdout",
     "output_type": "stream",
     "text": [
      "this is variable 1:  3\n",
      "this is the quotient:  0.6\n"
     ]
    }
   ],
   "source": [
    "var1 = 3\n",
    "var2 = 5\n",
    "\n",
    "print(\"this is variable 1: \" , var1)\n",
    "print(\"this is the quotient: \" , var1/var2)"
   ]
  },
  {
   "cell_type": "code",
   "execution_count": 11,
   "id": "9e85b2e4-d3ec-4559-b18b-9166ba96b2fe",
   "metadata": {},
   "outputs": [
    {
     "data": {
      "text/plain": [
       "3"
      ]
     },
     "execution_count": 11,
     "metadata": {},
     "output_type": "execute_result"
    }
   ],
   "source": [
    "var1"
   ]
  },
  {
   "cell_type": "code",
   "execution_count": 12,
   "id": "068d3df1-54e8-4203-90a0-39d1d3802c7c",
   "metadata": {},
   "outputs": [
    {
     "data": {
      "text/plain": [
       "int"
      ]
     },
     "execution_count": 12,
     "metadata": {},
     "output_type": "execute_result"
    }
   ],
   "source": [
    "type(var1)"
   ]
  },
  {
   "cell_type": "code",
   "execution_count": 13,
   "id": "974ced29-c8f8-43cb-871f-e460b3c38e4e",
   "metadata": {},
   "outputs": [],
   "source": [
    "var3 = 34.12"
   ]
  },
  {
   "cell_type": "code",
   "execution_count": 14,
   "id": "44fd4846-dfa6-4426-921c-6ace55f65e82",
   "metadata": {},
   "outputs": [
    {
     "data": {
      "text/plain": [
       "float"
      ]
     },
     "execution_count": 14,
     "metadata": {},
     "output_type": "execute_result"
    }
   ],
   "source": [
    "type(var3)"
   ]
  },
  {
   "cell_type": "markdown",
   "id": "f0d7ca2c-b85e-4059-bf80-817f9b4925a2",
   "metadata": {},
   "source": [
    "# STRINGS"
   ]
  },
  {
   "cell_type": "code",
   "execution_count": 15,
   "id": "8b03f2ae-64c4-4cf7-9186-759b7a0f88ab",
   "metadata": {},
   "outputs": [],
   "source": [
    "var4 = \"tsokyo shabani\""
   ]
  },
  {
   "cell_type": "code",
   "execution_count": 16,
   "id": "7fd0591c-4dca-4b76-8213-45a1ee304f0d",
   "metadata": {},
   "outputs": [
    {
     "data": {
      "text/plain": [
       "14"
      ]
     },
     "execution_count": 16,
     "metadata": {},
     "output_type": "execute_result"
    }
   ],
   "source": [
    "len(var4)"
   ]
  },
  {
   "cell_type": "code",
   "execution_count": 17,
   "id": "4d21c5f0-68fd-4a7c-a08a-db0b50416341",
   "metadata": {},
   "outputs": [
    {
     "data": {
      "text/plain": [
       "'Tsokyo shabani'"
      ]
     },
     "execution_count": 17,
     "metadata": {},
     "output_type": "execute_result"
    }
   ],
   "source": [
    "var4.capitalize()"
   ]
  },
  {
   "cell_type": "code",
   "execution_count": 18,
   "id": "da759cfa-bb7e-4c16-9e01-2a0fe4ca4b46",
   "metadata": {},
   "outputs": [
    {
     "data": {
      "text/plain": [
       "\"ng'ombe wepfiqpoeif adasd\""
      ]
     },
     "execution_count": 18,
     "metadata": {},
     "output_type": "execute_result"
    }
   ],
   "source": [
    "\"ng'ombe wepfiqpoeif adasd\""
   ]
  },
  {
   "cell_type": "markdown",
   "id": "efb54504-fdd3-4509-b272-36358d31290a",
   "metadata": {
    "editable": true,
    "slideshow": {
     "slide_type": ""
    },
    "tags": []
   },
   "source": [
    "## indexing and slicing"
   ]
  },
  {
   "cell_type": "code",
   "execution_count": 19,
   "id": "5d6388ac-193f-4e38-823b-290717f360c8",
   "metadata": {},
   "outputs": [],
   "source": [
    "var4 = var4.capitalize()"
   ]
  },
  {
   "cell_type": "code",
   "execution_count": 20,
   "id": "f6a38633-7c1e-4fc3-9e7a-e2eaa162643c",
   "metadata": {},
   "outputs": [
    {
     "data": {
      "text/plain": [
       "'Tsokyo shabani'"
      ]
     },
     "execution_count": 20,
     "metadata": {},
     "output_type": "execute_result"
    }
   ],
   "source": [
    "var4"
   ]
  },
  {
   "cell_type": "code",
   "execution_count": 21,
   "id": "c5277a66-1d1c-4182-aaaf-3ccf8faf929b",
   "metadata": {},
   "outputs": [
    {
     "data": {
      "text/plain": [
       "'i'"
      ]
     },
     "execution_count": 21,
     "metadata": {},
     "output_type": "execute_result"
    }
   ],
   "source": [
    "var4[-1]"
   ]
  },
  {
   "cell_type": "code",
   "execution_count": 22,
   "id": "2c101d4c-e5f6-4025-9290-314113574469",
   "metadata": {},
   "outputs": [],
   "source": [
    "# var4[ start = 0 : stop = len(var4) : step = 1 ]"
   ]
  },
  {
   "cell_type": "code",
   "execution_count": 23,
   "id": "33b33cb2-4338-464d-9eac-86a2c01ee38c",
   "metadata": {},
   "outputs": [
    {
     "data": {
      "text/plain": [
       "' oykosT'"
      ]
     },
     "execution_count": 23,
     "metadata": {},
     "output_type": "execute_result"
    }
   ],
   "source": [
    "var4[6::-1]"
   ]
  },
  {
   "cell_type": "markdown",
   "id": "458c0dc5-43d8-4b71-b11c-96768b25af8e",
   "metadata": {},
   "source": [
    "# list"
   ]
  },
  {
   "cell_type": "code",
   "execution_count": 24,
   "id": "855b27a4-cc81-49f0-88ca-3fb1edffe625",
   "metadata": {},
   "outputs": [],
   "source": [
    "namba = [1,\"aiuad\",45.7,4,5,6]"
   ]
  },
  {
   "cell_type": "code",
   "execution_count": 25,
   "id": "6d3f308c-1679-4019-82c6-b372e9342142",
   "metadata": {},
   "outputs": [
    {
     "data": {
      "text/plain": [
       "[1, 'aiuad', 45.7, 4, 5, 6]"
      ]
     },
     "execution_count": 25,
     "metadata": {},
     "output_type": "execute_result"
    }
   ],
   "source": [
    "namba"
   ]
  },
  {
   "cell_type": "code",
   "execution_count": 26,
   "id": "eebbb724-c42e-4e1a-9aad-6f5c0fa564c5",
   "metadata": {},
   "outputs": [],
   "source": [
    "namba.append(90)"
   ]
  },
  {
   "cell_type": "code",
   "execution_count": 27,
   "id": "b390a3c6-d88c-4ed7-9880-c40275f9ce45",
   "metadata": {},
   "outputs": [
    {
     "data": {
      "text/plain": [
       "[1, 'aiuad', 45.7, 4, 5, 6, 90]"
      ]
     },
     "execution_count": 27,
     "metadata": {},
     "output_type": "execute_result"
    }
   ],
   "source": [
    "namba"
   ]
  },
  {
   "cell_type": "code",
   "execution_count": 28,
   "id": "c50c93e2-3f3e-4c16-a73f-121d4cf6f9d2",
   "metadata": {},
   "outputs": [],
   "source": [
    "var6 = namba.copy()"
   ]
  },
  {
   "cell_type": "code",
   "execution_count": 29,
   "id": "975abbd0-eb5d-4310-ab57-b0447cc9d348",
   "metadata": {},
   "outputs": [
    {
     "data": {
      "text/plain": [
       "[1, 'aiuad', 45.7, 4, 5, 6, 90]"
      ]
     },
     "execution_count": 29,
     "metadata": {},
     "output_type": "execute_result"
    }
   ],
   "source": [
    "var6"
   ]
  },
  {
   "cell_type": "code",
   "execution_count": 30,
   "id": "936ff155-8a84-4756-9a6b-4b4af5e75b92",
   "metadata": {},
   "outputs": [],
   "source": [
    "namba.append(-1)"
   ]
  },
  {
   "cell_type": "code",
   "execution_count": 31,
   "id": "fd4e0422-31a4-4815-a545-fa8cab95b33c",
   "metadata": {},
   "outputs": [
    {
     "data": {
      "text/plain": [
       "[1, 'aiuad', 45.7, 4, 5, 6, 90, -1]"
      ]
     },
     "execution_count": 31,
     "metadata": {},
     "output_type": "execute_result"
    }
   ],
   "source": [
    "namba"
   ]
  },
  {
   "cell_type": "code",
   "execution_count": 32,
   "id": "b2784d30-b28a-4da0-a451-29ce8ab88207",
   "metadata": {},
   "outputs": [
    {
     "data": {
      "text/plain": [
       "[1, 'aiuad', 45.7, 4, 5, 6, 90]"
      ]
     },
     "execution_count": 32,
     "metadata": {},
     "output_type": "execute_result"
    }
   ],
   "source": [
    "var6"
   ]
  },
  {
   "cell_type": "code",
   "execution_count": 33,
   "id": "abd9f874-d79e-4b5d-9b3e-cb3e33aee2a3",
   "metadata": {},
   "outputs": [],
   "source": [
    "names = [\"kulwa\",\"john\", \"asia\", \"rama\",\"idris\"]"
   ]
  },
  {
   "cell_type": "code",
   "execution_count": 34,
   "id": "2e94b872-ce1c-4744-b5f4-756bf661a002",
   "metadata": {},
   "outputs": [
    {
     "data": {
      "text/plain": [
       "['kulwa', 'john', 'asia']"
      ]
     },
     "execution_count": 34,
     "metadata": {},
     "output_type": "execute_result"
    }
   ],
   "source": [
    "names[0:3]"
   ]
  },
  {
   "cell_type": "code",
   "execution_count": 35,
   "id": "81712bbc-39ff-40d3-8268-360d09a085a5",
   "metadata": {
    "editable": true,
    "slideshow": {
     "slide_type": ""
    },
    "tags": []
   },
   "outputs": [],
   "source": [
    "var5 = var4.split()"
   ]
  },
  {
   "cell_type": "code",
   "execution_count": 36,
   "id": "c9e972af-27ec-4010-94eb-343603bba2af",
   "metadata": {},
   "outputs": [
    {
     "data": {
      "text/plain": [
       "'shabani'"
      ]
     },
     "execution_count": 36,
     "metadata": {},
     "output_type": "execute_result"
    }
   ],
   "source": [
    "var5[-1]"
   ]
  },
  {
   "cell_type": "code",
   "execution_count": 37,
   "id": "efde985c-f8ef-4194-bfa9-c05a1bdb7f07",
   "metadata": {},
   "outputs": [],
   "source": [
    "names.sort()"
   ]
  },
  {
   "cell_type": "code",
   "execution_count": 38,
   "id": "3e7e0513-5331-456b-988f-28871a7af0fe",
   "metadata": {},
   "outputs": [
    {
     "data": {
      "text/plain": [
       "['asia', 'idris', 'john', 'kulwa', 'rama']"
      ]
     },
     "execution_count": 38,
     "metadata": {},
     "output_type": "execute_result"
    }
   ],
   "source": [
    "names"
   ]
  },
  {
   "cell_type": "markdown",
   "id": "b5adee75-05b2-4dc4-92df-e75a5fbe477f",
   "metadata": {},
   "source": [
    "# TUPLE"
   ]
  },
  {
   "cell_type": "code",
   "execution_count": 39,
   "id": "03c44ad0-6266-4b2e-ab24-4f52fa629417",
   "metadata": {},
   "outputs": [],
   "source": [
    "majina = (\"asia\",\"raja\",\"john\")"
   ]
  },
  {
   "cell_type": "code",
   "execution_count": 40,
   "id": "42d5eab7-94f6-47e7-9aef-1f18e64eb394",
   "metadata": {},
   "outputs": [
    {
     "data": {
      "text/plain": [
       "('asia', 'raja', 'john')"
      ]
     },
     "execution_count": 40,
     "metadata": {},
     "output_type": "execute_result"
    }
   ],
   "source": [
    "majina"
   ]
  },
  {
   "cell_type": "markdown",
   "id": "7e342a67-b0c6-4f84-b5e9-c2bd9e82eddd",
   "metadata": {},
   "source": [
    "# DICTIONARY"
   ]
  },
  {
   "cell_type": "code",
   "execution_count": 41,
   "id": "b49bed0f-2a14-415a-a611-8e143dd0d67f",
   "metadata": {},
   "outputs": [],
   "source": [
    "# data {key:value}"
   ]
  },
  {
   "cell_type": "code",
   "execution_count": 42,
   "id": "5502d9be-657b-4d84-bc4c-524d2e70f7f6",
   "metadata": {},
   "outputs": [],
   "source": [
    "majina = {\n",
    "    \"firstname\":\"john\",\n",
    "    \"middlename\":\"mbwele\",\n",
    "    \"surname\":\"gwamaka\"\n",
    "}"
   ]
  },
  {
   "cell_type": "code",
   "execution_count": 43,
   "id": "2b2bc296-32e7-4d49-ae34-0b7471b3dd05",
   "metadata": {},
   "outputs": [
    {
     "data": {
      "text/plain": [
       "{'firstname': 'john', 'middlename': 'mbwele', 'surname': 'gwamaka'}"
      ]
     },
     "execution_count": 43,
     "metadata": {},
     "output_type": "execute_result"
    }
   ],
   "source": [
    "majina"
   ]
  },
  {
   "cell_type": "code",
   "execution_count": 44,
   "id": "0b1f12d2-2ff2-4022-a9af-e6708b25bb5e",
   "metadata": {},
   "outputs": [
    {
     "data": {
      "text/plain": [
       "'john'"
      ]
     },
     "execution_count": 44,
     "metadata": {},
     "output_type": "execute_result"
    }
   ],
   "source": [
    "majina[\"firstname\"]"
   ]
  },
  {
   "cell_type": "code",
   "execution_count": 45,
   "id": "bd8ae011-d66f-44ab-ae6e-55d9816e59f4",
   "metadata": {
    "editable": true,
    "slideshow": {
     "slide_type": ""
    },
    "tags": []
   },
   "outputs": [],
   "source": [
    "majina.update()"
   ]
  },
  {
   "cell_type": "code",
   "execution_count": 46,
   "id": "06369faf-ec06-4b97-beec-c5f919873d3b",
   "metadata": {
    "editable": true,
    "slideshow": {
     "slide_type": ""
    },
    "tags": []
   },
   "outputs": [
    {
     "data": {
      "text/plain": [
       "{'firstname': 'john', 'middlename': 'mbwele', 'surname': 'gwamaka'}"
      ]
     },
     "execution_count": 46,
     "metadata": {},
     "output_type": "execute_result"
    }
   ],
   "source": [
    "majina"
   ]
  },
  {
   "cell_type": "code",
   "execution_count": 47,
   "id": "69ea63d0-291c-4373-829e-3c1b80e822c5",
   "metadata": {},
   "outputs": [],
   "source": [
    "nambas = [1,1,1,1,3,3,3,3,5,5,5,5]"
   ]
  },
  {
   "cell_type": "code",
   "execution_count": 48,
   "id": "01247a9b-6f06-4ce5-b70a-21f19adde267",
   "metadata": {},
   "outputs": [],
   "source": [
    "unique = set(nambas)"
   ]
  },
  {
   "cell_type": "code",
   "execution_count": 49,
   "id": "5a41d21d-7af1-477b-bd75-bf651916d5f3",
   "metadata": {},
   "outputs": [
    {
     "data": {
      "text/plain": [
       "{1, 3, 5}"
      ]
     },
     "execution_count": 49,
     "metadata": {},
     "output_type": "execute_result"
    }
   ],
   "source": [
    "unique"
   ]
  },
  {
   "cell_type": "markdown",
   "id": "a2ff0be0-74ec-4c47-a3db-17983db44d66",
   "metadata": {},
   "source": [
    "# BOOLEAN"
   ]
  },
  {
   "cell_type": "code",
   "execution_count": 50,
   "id": "bb5cce9f-a64e-4349-b35b-2a6f46607675",
   "metadata": {},
   "outputs": [],
   "source": [
    "raining = True"
   ]
  },
  {
   "cell_type": "code",
   "execution_count": 51,
   "id": "026f55f2-5495-4d6c-a711-05710f3acf80",
   "metadata": {},
   "outputs": [
    {
     "data": {
      "text/plain": [
       "True"
      ]
     },
     "execution_count": 51,
     "metadata": {},
     "output_type": "execute_result"
    }
   ],
   "source": [
    "raining"
   ]
  },
  {
   "cell_type": "code",
   "execution_count": 52,
   "id": "9e0e60da-c52d-4d51-a86c-40cebbf7978e",
   "metadata": {},
   "outputs": [],
   "source": [
    "raining  = False"
   ]
  },
  {
   "cell_type": "code",
   "execution_count": 53,
   "id": "0d1e6960-e815-49b3-bbf7-d316966f3e64",
   "metadata": {},
   "outputs": [
    {
     "data": {
      "text/plain": [
       "False"
      ]
     },
     "execution_count": 53,
     "metadata": {},
     "output_type": "execute_result"
    }
   ],
   "source": [
    "raining"
   ]
  },
  {
   "cell_type": "code",
   "execution_count": 54,
   "id": "89482f84-7602-4a20-805c-c44622a43627",
   "metadata": {},
   "outputs": [
    {
     "data": {
      "text/plain": [
       "False"
      ]
     },
     "execution_count": 54,
     "metadata": {},
     "output_type": "execute_result"
    }
   ],
   "source": [
    "bool(raining)"
   ]
  },
  {
   "cell_type": "code",
   "execution_count": 55,
   "id": "ccb8c59e-1d8c-4391-9ce2-e5cedd8958f7",
   "metadata": {},
   "outputs": [
    {
     "data": {
      "text/plain": [
       "False"
      ]
     },
     "execution_count": 55,
     "metadata": {},
     "output_type": "execute_result"
    }
   ],
   "source": [
    "bool(\"\")"
   ]
  },
  {
   "cell_type": "markdown",
   "id": "df2d1f21-a322-403e-a239-a640e9eb0a78",
   "metadata": {},
   "source": [
    "## comparison operators"
   ]
  },
  {
   "cell_type": "code",
   "execution_count": 56,
   "id": "a91e985c-7bc8-43f0-91b5-cb7affcf5379",
   "metadata": {},
   "outputs": [
    {
     "data": {
      "text/plain": [
       "False"
      ]
     },
     "execution_count": 56,
     "metadata": {},
     "output_type": "execute_result"
    }
   ],
   "source": [
    "5 == 6"
   ]
  },
  {
   "cell_type": "code",
   "execution_count": 57,
   "id": "1c2c98dd-bfe8-480d-894d-1463c8cbdaf7",
   "metadata": {},
   "outputs": [
    {
     "data": {
      "text/plain": [
       "False"
      ]
     },
     "execution_count": 57,
     "metadata": {},
     "output_type": "execute_result"
    }
   ],
   "source": [
    "5 > 5"
   ]
  },
  {
   "cell_type": "code",
   "execution_count": 58,
   "id": "071b41d3-9c08-427f-8fff-b218a62f62ca",
   "metadata": {},
   "outputs": [
    {
     "data": {
      "text/plain": [
       "True"
      ]
     },
     "execution_count": 58,
     "metadata": {},
     "output_type": "execute_result"
    }
   ],
   "source": [
    "5 >= 5"
   ]
  },
  {
   "cell_type": "code",
   "execution_count": 59,
   "id": "7cbd8883-5887-4913-9717-b350b3ecf9cb",
   "metadata": {},
   "outputs": [
    {
     "data": {
      "text/plain": [
       "False"
      ]
     },
     "execution_count": 59,
     "metadata": {},
     "output_type": "execute_result"
    }
   ],
   "source": [
    "5 != 5"
   ]
  },
  {
   "cell_type": "code",
   "execution_count": 60,
   "id": "23e7e4db-9a95-4657-8552-025fa69c7335",
   "metadata": {},
   "outputs": [
    {
     "data": {
      "text/plain": [
       "False"
      ]
     },
     "execution_count": 60,
     "metadata": {},
     "output_type": "execute_result"
    }
   ],
   "source": [
    "\"a\" == \"b\""
   ]
  },
  {
   "cell_type": "markdown",
   "id": "0722bd65-d438-49e5-a75e-17ad5af38028",
   "metadata": {},
   "source": [
    "## membership operators"
   ]
  },
  {
   "cell_type": "code",
   "execution_count": 61,
   "id": "bd2ed1d8-159d-45f8-85be-f2e79a0ce660",
   "metadata": {},
   "outputs": [],
   "source": [
    "a = \"a\""
   ]
  },
  {
   "cell_type": "code",
   "execution_count": 62,
   "id": "0f026fea-ce4a-4a1e-a895-b073c1fb584d",
   "metadata": {},
   "outputs": [
    {
     "data": {
      "text/plain": [
       "False"
      ]
     },
     "execution_count": 62,
     "metadata": {},
     "output_type": "execute_result"
    }
   ],
   "source": [
    "\"y\" in \"membership operators\""
   ]
  },
  {
   "cell_type": "code",
   "execution_count": 63,
   "id": "b20454b3-4f9c-4d41-a63c-526f89ac804f",
   "metadata": {},
   "outputs": [
    {
     "data": {
      "text/plain": [
       "False"
      ]
     },
     "execution_count": 63,
     "metadata": {},
     "output_type": "execute_result"
    }
   ],
   "source": [
    "\"y\" in \"membership operators\""
   ]
  },
  {
   "cell_type": "code",
   "execution_count": null,
   "id": "f8af9ac9-5c5e-42f6-9228-0249ac42c471",
   "metadata": {},
   "outputs": [],
   "source": []
  }
 ],
 "metadata": {
  "kernelspec": {
   "display_name": "Python 3 (ipykernel)",
   "language": "python",
   "name": "python3"
  },
  "language_info": {
   "codemirror_mode": {
    "name": "ipython",
    "version": 3
   },
   "file_extension": ".py",
   "mimetype": "text/x-python",
   "name": "python",
   "nbconvert_exporter": "python",
   "pygments_lexer": "ipython3",
   "version": "3.10.6"
  }
 },
 "nbformat": 4,
 "nbformat_minor": 5
}
